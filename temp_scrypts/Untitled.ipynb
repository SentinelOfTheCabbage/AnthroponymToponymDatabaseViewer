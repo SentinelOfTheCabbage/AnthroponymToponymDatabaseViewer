{
 "cells": [
  {
   "cell_type": "code",
   "execution_count": 154,
   "metadata": {},
   "outputs": [],
   "source": [
    "import pandas as pd\n",
    "import re\n",
    "df = pd.DataFrame(columns=['toponym','original','transcription','historical source', 'ageographical source', 'comments', 'century', 'geopos'])"
   ]
  },
  {
   "cell_type": "code",
   "execution_count": 155,
   "metadata": {},
   "outputs": [
    {
     "data": {
      "text/html": [
       "<div>\n",
       "<style scoped>\n",
       "    .dataframe tbody tr th:only-of-type {\n",
       "        vertical-align: middle;\n",
       "    }\n",
       "\n",
       "    .dataframe tbody tr th {\n",
       "        vertical-align: top;\n",
       "    }\n",
       "\n",
       "    .dataframe thead th {\n",
       "        text-align: right;\n",
       "    }\n",
       "</style>\n",
       "<table border=\"1\" class=\"dataframe\">\n",
       "  <thead>\n",
       "    <tr style=\"text-align: right;\">\n",
       "      <th></th>\n",
       "      <th>Аnthroponym in English</th>\n",
       "      <th>Original + transcription</th>\n",
       "      <th>Source</th>\n",
       "      <th>Century</th>\n",
       "      <th>Historical source</th>\n",
       "      <th>Hagiographical source</th>\n",
       "      <th>Literature</th>\n",
       "      <th>Commentaries</th>\n",
       "    </tr>\n",
       "  </thead>\n",
       "  <tbody>\n",
       "    <tr>\n",
       "      <th>0</th>\n",
       "      <td>Cyprian</td>\n",
       "      <td>კჳპრიანე [ḳqwpriane]</td>\n",
       "      <td>Vita_Serap.Zarzm.</td>\n",
       "      <td>10th</td>\n",
       "      <td>NaN</td>\n",
       "      <td>V</td>\n",
       "      <td>NaN</td>\n",
       "      <td>Serapion's father</td>\n",
       "    </tr>\n",
       "    <tr>\n",
       "      <th>1</th>\n",
       "      <td>Serapion</td>\n",
       "      <td>სერაპიონ [sarapion]</td>\n",
       "      <td>Vita_Serap.Zarzm.</td>\n",
       "      <td>10th</td>\n",
       "      <td>NaN</td>\n",
       "      <td>V</td>\n",
       "      <td>NaN</td>\n",
       "      <td>NaN</td>\n",
       "    </tr>\n",
       "    <tr>\n",
       "      <th>2</th>\n",
       "      <td>Amona</td>\n",
       "      <td>ამონა [amona]</td>\n",
       "      <td>Vita_Serap.Zarzm.</td>\n",
       "      <td>10th</td>\n",
       "      <td>NaN</td>\n",
       "      <td>V</td>\n",
       "      <td>NaN</td>\n",
       "      <td>One of the builders of the monastery in Opiza</td>\n",
       "    </tr>\n",
       "    <tr>\n",
       "      <th>3</th>\n",
       "      <td>Andria</td>\n",
       "      <td>ანდრია [andria]</td>\n",
       "      <td>Vita_Serap.Zarzm.</td>\n",
       "      <td>10th</td>\n",
       "      <td>NaN</td>\n",
       "      <td>V</td>\n",
       "      <td>NaN</td>\n",
       "      <td>One of the builders of the monastery in Opiza</td>\n",
       "    </tr>\n",
       "    <tr>\n",
       "      <th>4</th>\n",
       "      <td>Petre</td>\n",
       "      <td>პეტრე [petre]</td>\n",
       "      <td>Vita_Serap.Zarzm.</td>\n",
       "      <td>10th</td>\n",
       "      <td>NaN</td>\n",
       "      <td>V</td>\n",
       "      <td>NaN</td>\n",
       "      <td>One of the builders of the monastery in Opiza</td>\n",
       "    </tr>\n",
       "  </tbody>\n",
       "</table>\n",
       "</div>"
      ],
      "text/plain": [
       "  Аnthroponym in English Original + transcription            Source  Century  \\\n",
       "0                Cyprian     კჳპრიანე [ḳqwpriane]  Vita_Serap.Zarzm.    10th   \n",
       "1               Serapion      სერაპიონ [sarapion]  Vita_Serap.Zarzm.    10th   \n",
       "2                  Amona            ამონა [amona]  Vita_Serap.Zarzm.    10th   \n",
       "3                 Andria          ანდრია [andria]  Vita_Serap.Zarzm.    10th   \n",
       "4                  Petre            პეტრე [petre]  Vita_Serap.Zarzm.    10th   \n",
       "\n",
       "  Historical source Hagiographical source Literature  \\\n",
       "0               NaN                     V        NaN   \n",
       "1               NaN                     V        NaN   \n",
       "2               NaN                     V        NaN   \n",
       "3               NaN                     V        NaN   \n",
       "4               NaN                     V        NaN   \n",
       "\n",
       "                                    Commentaries  \n",
       "0                              Serapion's father  \n",
       "1                                            NaN  \n",
       "2  One of the builders of the monastery in Opiza  \n",
       "3  One of the builders of the monastery in Opiza  \n",
       "4  One of the builders of the monastery in Opiza  "
      ]
     },
     "execution_count": 155,
     "metadata": {},
     "output_type": "execute_result"
    }
   ],
   "source": [
    "table = pd.read_excel('anth.xlsx')\n",
    "table.head()"
   ]
  },
  {
   "cell_type": "code",
   "execution_count": 158,
   "metadata": {},
   "outputs": [
    {
     "data": {
      "text/plain": [
       "('ვაზგენი', 'vazgen')"
      ]
     },
     "execution_count": 158,
     "metadata": {},
     "output_type": "execute_result"
    }
   ],
   "source": []
  },
  {
   "cell_type": "code",
   "execution_count": 161,
   "metadata": {},
   "outputs": [],
   "source": [
    "queries = []\n",
    "for _, data in table.iterrows():\n",
    "    if str(data[1]) == 'nan':\n",
    "        continue\n",
    "    anthroponym = data[0].replace(\"'\", \"\\'\").replace('\\n', ' ')\n",
    "    pair = re.findall('(.*) \\[(.*)\\]', data[1])\n",
    "    if pair:\n",
    "        original = pair[0][0]\n",
    "        transcription = pair[0][1]\n",
    "    else:\n",
    "        continue\n",
    "#     if ' [' in data[1]:\n",
    "#         original = data[1].split(' [')[0].replace(\"'\", \"\\'\")\n",
    "#         transcription = data[1].split(' [')[1][:data[1].index(']')].replace(\"'\", \"\\'\")\n",
    "#     elif '[' == data[1][0] and ']' == data[1][-1]:\n",
    "#         original = ' '\n",
    "#         transcription = data[1][1:-1]\n",
    "#     print(transcription)\n",
    "    source = data[2].replace(\"'\", \"\\'\")\n",
    "    century = data[3].replace(\"'\", \"\\'\")[:-2]\n",
    "    if data[4]:\n",
    "        ageographical_source = ' '\n",
    "        historical_source = source.replace('\"', '\\\\\"').replace(\"'\", \"\\'\")\n",
    "    elif data[5]:\n",
    "        ageographical_source = source.replace('\"', '\\\\\"').replace(\"'\", \"\\'\")\n",
    "        historical_source = ' '\n",
    "    else:\n",
    "        print(data)\n",
    "        break\n",
    "    literature = data[6]\n",
    "    if str(data[7]) != 'nan':\n",
    "        comments = data[7].replace(\"'\", \"\\'\").replace('\\n',' ').replace('\\r', ' ').replace('\"', '\\\\\"')\n",
    "    else:\n",
    "        comments = ' '\n",
    "    query = f'(\"{anthroponym}\", \"{original}\", \"{transcription}\", \"{historical_source}\", \"{ageographical_source}\", \"{comments}\", {century})'\n",
    "    queries.append(query)\n"
   ]
  },
  {
   "cell_type": "code",
   "execution_count": 164,
   "metadata": {},
   "outputs": [],
   "source": [
    "n = 0"
   ]
  },
  {
   "cell_type": "code",
   "execution_count": 172,
   "metadata": {},
   "outputs": [
    {
     "name": "stdout",
     "output_type": "stream",
     "text": [
      "INSERT INTO anthroponym (anthroponym, original, transcription, historical_source, ageographical_source, comments, century) VALUES (\"Kasun\", \"Քասուն\", \"Kʿasun\", \"Laz.Parp_Hist.Arm\", \" \", \"The bishop from Tarberuni, A participant of the Council of Artashat (449).\", 5), (\"Kont Araveghyan\", \"Քոնթ Առաւենեան (Առաւեղեա՞ն)\", \"Kʿontʿ Aṙawenean (Aṙawełean?)\", \"Laz.Parp_Hist.Arm\", \" \", \"A participant of the uprising of Vahan Mamikonyan (481-484), died during the uprising.\", 5), (\"Tatian\", \"Տատիանոս\", \"tatianos\", \"Mart_Vosk\", \" \", \"A historian from Greek lands of Armenia. This probably can be Tatian the Syrian (Assyrian), the writer and theologist of the 2nd century, although, according to the martyrdom, he lived under emperor Valentinian, but both Valentinian I and Valentinian II ruled in the 4th century\", 5), (\"Valentinian\", \"Վալենտինիանոս\", \"valentinianos\", \"Mart_Vosk\", \" \", \"Roman emperor, that ruled the Roman Empire in the 4th century. It is hard to tell, whether this is Valentinian I (364-375) or Valentinian II (375-392). G.Alishan claims that instead of Valentinian another emperor, Valerian, should be mentioned. But Valerian ruled in the 3rd century (either Valerian I (253-260) or his grandson and coruler Valerian II (253-257)), whereas Tatian, the historian, lived in the 2nd century, so there is still an anachronism in the martyrdom\", 5), (\"Thaddeus\", \"Թադեոս\", \"tʿadeos\", \"Mart_Vosk\", \" \", \"One of the 70 disciples of Christ, preached in Armenia\", 5), (\"Xṙusi/Xryusi\", \"Խռուսի [χṙusi]/Խրյուսի\", \"χryusi\", \"Mart_Vosk\", \" \", \"Greek leader of the Voskyans martyr. The name Voskyans comes from \\\"voski\\\", Armenian analog of Greek \\\"χṙusi\\\" (meaning \\\"gold\\\")\", 5), (\"Artašes/Artaxias I\", \"Արտաշես\", \"artašes\", \"Mart_Vosk\", \" \", \"King of Armenia (189-160 BC), pagan that did not accept the Voskyans' Christian prophecies \", 5), (\"Satenik\", \"Սաթենիկ\", \"satʿenik\", \"Mart_Vosk\", \" \", \"Alanian princess, Queen of Armenia as wife of Artašes. She seemed to turn to Christianity at first, but than, afraid of putting the Voskyans at risk of being killed by her sons, became unmerciful to the saints, so they left her\", 5), (\"Vnoyn\", \"Վնույն\", \"vnoyn\", \"Mart_Vosk\", \" \", \"One of the sons of Artašes and Satʿenik that tried to persuade the Voskyans to return to paganism\", 5), (\"Vroyn\", \"Վրույն\", \"vroyn\", \"Mart_Vosk\", \" \", \"One of the sons of Artašes and Satʿenik that tried to persuade the Voskyans to return to paganism. In another version of the martyrdom is also named J̆royn. G.Alishan regards him as Vroyr that is also mentioned in \\\"History of Armenia\\\" by Movses Xorenacʿi\", 5), (\"Gregory the Illuminator\", \"Գրիգոր\", \"grigor\", \"Mart_Vosk\", \" \", \"Saint that converted Armenia into Christianity in the 4th century. Having learnt about the Voskyans martyred, he built the chapel upon their burials and appointed his disciple Abas as a priest in this church\", 5), (\"Abas\", \"Աբաս\", \"abas\", \"Mart_Vosk\", \" \", \"One of the disciples of Gregory the Illuminator that was appointed by his teacher as the first priest in the chapel upon the burials of the Voskyans\", 5), (\"Vałarš\", \"Վաղարշ\", \"vałarš\", \"Mart_Vosk\", \" \", \"King of Armenia that built the city Vałaršakert on the place where the Voskyans were martyred. It is hard to say whether it is Vałarš I (who built Vałaršapat or rebuilt the Urartian city Anase in the district of Bargewand) or Vałarš II (who built Vałaršawan in the district of Basean)\", 5), (\"Sukʿias\", \"Սուքիաս\", \"sukʿias\", \"Mart_Vosk\", \" \", \"The leader of the Alanian courtiers of Satʿenik coming to Armenia together with her (future Sukʿiasyans martyrs), after whom the J̆rabašχ Mountain renamed to Sukavet\", 5), (\"David\", \"დავით\", \"davit`\", \"Mart._Dav.Tir.\", \" \", \"Saint martyr, son of pious Armenian Parents Vardan and Tagine, Tirichan's brother, was killed by his uncle.\", 7), (\"Tirichan\", \"ტირიჭან\", \"tiričan\", \"Mart._Dav.Tir.\", \" \", \"Saint martyr, son of pious Armenian parents Vardan and Tagine, David's brother, was killed by his own uncle.\", 7), (\"Arsen\", \"არსენი\", \"arsen\", \"Mart._Dav.Tir.\", \" \", \" \", 7), (\"Heracles\", \"ჰერაკლე\", \"herakle\", \"Mart._Dav.Tir.\", \" \", \"Ruler of Greece.\", 7), (\"Arshak\", \"არშაკ\", \"aršak\", \"Mart._Dav.Tir.\", \" \", \"King of Armenia\", 7), (\"Nerces\", \"ნერსე\", \"nerse\", \"Mart._Dav.Tir.\", \" \", \" \", 7), (\"Vardan\", \"ვარდან\", \"vardan\", \"Mart._Dav.Tir.\", \" \", \"Pious christian, father of David and Tirichan, Tagine's husband relative of the king, died while his sons were still young.\", 7), (\"Tagine\", \"თაგინე\", \"t`agine\", \"Mart._Dav.Tir.\", \" \", \"Vardan's wife, sister of Theodosius, pious christian, king's relative and mother of David and Tirichan.\", 7), (\"Theodosius\", \"თევდოსი\", \"t`evdos\", \"Mart._Dav.Tir.\", \" \", \"David's and Tirichan's maternal uncle who was heathen and after the death of Vardan, he appropriated his wealth and was afraid that his nephews would try to return it when they grow up, therefore he killed them but saw the miracle and then believed in God. Built a church in honor of St. David.\", 7), (\"Vazgen\", \"ვაზგენი\", \"vazgen\", \"Mart._Dav.Tir.\", \" \", \"Saint relative of Vardan and Tagine, catholicos who lived in a village ვაჯგან [vajgan]\", 7);\n"
     ]
    }
   ],
   "source": [
    "query = 'INSERT INTO anthroponym (anthroponym, original, transcription, historical_source, ageographical_source, comments, century) VALUES '\n",
    "query += ', '.join(queries[n:n + 100]) + ';'\n",
    "n += 100\n",
    "print(query.replace('\\n',' '))"
   ]
  },
  {
   "cell_type": "code",
   "execution_count": 207,
   "metadata": {},
   "outputs": [
    {
     "name": "stdout",
     "output_type": "stream",
     "text": [
      "ნერსე [nerse]\n",
      "Lang, D. M. Lives and Legends of the Georgian Saints. 2021, pp. 115-134\n"
     ]
    }
   ],
   "source": [
    "x = 4\n",
    "data = table[['Original + transcription', 'Literature']].dropna().iloc[x]\n",
    "print(data['Original + transcription'])\n",
    "print(data['Literature'])\n"
   ]
  },
  {
   "cell_type": "code",
   "execution_count": null,
   "metadata": {},
   "outputs": [],
   "source": []
  }
 ],
 "metadata": {
  "kernelspec": {
   "display_name": "Python 3",
   "language": "python",
   "name": "python3"
  },
  "language_info": {
   "codemirror_mode": {
    "name": "ipython",
    "version": 3
   },
   "file_extension": ".py",
   "mimetype": "text/x-python",
   "name": "python",
   "nbconvert_exporter": "python",
   "pygments_lexer": "ipython3",
   "version": "3.7.2"
  }
 },
 "nbformat": 4,
 "nbformat_minor": 2
}
